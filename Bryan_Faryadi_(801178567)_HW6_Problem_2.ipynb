{
  "nbformat": 4,
  "nbformat_minor": 0,
  "metadata": {
    "colab": {
      "provenance": []
    },
    "kernelspec": {
      "name": "python3",
      "display_name": "Python 3"
    },
    "language_info": {
      "name": "python"
    }
  },
  "cells": [
    {
      "cell_type": "code",
      "execution_count": 29,
      "metadata": {
        "id": "ZJP6VCHVMKYm"
      },
      "outputs": [],
      "source": [
        "import numpy as np\n",
        "import pandas as pd\n",
        "import torch\n",
        "import torch.optim as optim\n",
        "from sklearn.model_selection import train_test_split\n",
        "from sklearn.preprocessing import StandardScaler\n",
        "from sklearn.datasets import load_breast_cancer\n",
        "import torch.nn as nn\n",
        "import time"
      ]
    },
    {
      "cell_type": "code",
      "source": [
        "def training_loop(n_epochs, model, optimizer, loss_fn, t_u_train, t_u_val, t_c_train, t_c_val):\n",
        "  start_time = time.time()\n",
        "\n",
        "  for epoch in range(1, n_epochs + 1):\n",
        "    t_p_train = model(t_u_train)\n",
        "    loss_train = loss_fn(t_p_train, t_c_train)\n",
        "\n",
        "    t_p_val = model(t_u_val)\n",
        "    loss_val = loss_fn(t_p_val, t_c_val)\n",
        "\n",
        "    optimizer.zero_grad()\n",
        "    loss_train.backward()\n",
        "    optimizer.step()\n",
        "\n",
        "    if epoch % 500 == 0 or epoch <= 3:\n",
        "      print(f'Epoch={epoch}, training loss={loss_train.item():e}, validation loss={loss_val.item():e}')\n",
        "\n",
        "  end_time = time.time()\n",
        "  elapsed_time = end_time - start_time\n",
        "  print(f\"Training completed in {elapsed_time:.2f} seconds.\")"
      ],
      "metadata": {
        "id": "sZLWsEtoNbqR"
      },
      "execution_count": 30,
      "outputs": []
    },
    {
      "cell_type": "code",
      "source": [
        "dataset = load_breast_cancer()\n",
        "x = dataset.data\n",
        "y = dataset.target\n",
        "\n",
        "# scaling\n",
        "scaler = StandardScaler()\n",
        "x = scaler.fit_transform(x)\n",
        "\n",
        "# np.random.seed(0)\n",
        "x_train, x_test, y_train, y_test = train_test_split(x, y, train_size = 0.8, test_size = 0.2, random_state = 100)\n",
        "\n",
        "t_u_train = torch.tensor(x_train, dtype=torch.float32)\n",
        "t_u_val = torch.tensor(x_test, dtype=torch.float32)\n",
        "t_c_train = torch.tensor(y_train, dtype=torch.long)\n",
        "t_c_val = torch.tensor(y_test, dtype=torch.long)"
      ],
      "metadata": {
        "id": "FMKiGE6eSuwv"
      },
      "execution_count": 31,
      "outputs": []
    },
    {
      "cell_type": "code",
      "source": [
        "model = nn.Sequential(\n",
        "    nn.Linear(30,32),\n",
        "    nn.Tanh(),\n",
        "    nn.Linear(32,2),\n",
        "    nn.LogSoftmax(dim=1)\n",
        ")\n",
        "\n",
        "optimizer = optim.SGD(model.parameters(), lr=1e-2)\n",
        "\n",
        "training_loop(\n",
        "    n_epochs = 3000,\n",
        "    model = model,\n",
        "    optimizer = optimizer,\n",
        "    loss_fn = nn.NLLLoss(),\n",
        "    t_u_train = t_u_train,\n",
        "    t_u_val = t_u_val,\n",
        "    t_c_train = t_c_train,\n",
        "    t_c_val = t_c_val\n",
        ")"
      ],
      "metadata": {
        "colab": {
          "base_uri": "https://localhost:8080/"
        },
        "id": "afIWm0DsSQCq",
        "outputId": "40123e7b-5d70-4be7-aeb3-389247ec8b9b"
      },
      "execution_count": 32,
      "outputs": [
        {
          "output_type": "stream",
          "name": "stdout",
          "text": [
            "Epoch=1, training loss=5.419706e-01, validation loss=5.088795e-01\n",
            "Epoch=2, training loss=5.338605e-01, validation loss=5.006434e-01\n",
            "Epoch=3, training loss=5.260094e-01, validation loss=4.926918e-01\n",
            "Epoch=500, training loss=9.954018e-02, validation loss=1.035543e-01\n",
            "Epoch=1000, training loss=7.274045e-02, validation loss=8.723891e-02\n",
            "Epoch=1500, training loss=6.335597e-02, validation loss=8.336369e-02\n",
            "Epoch=2000, training loss=5.828143e-02, validation loss=8.175008e-02\n",
            "Epoch=2500, training loss=5.494841e-02, validation loss=8.081084e-02\n",
            "Epoch=3000, training loss=5.251878e-02, validation loss=8.012608e-02\n",
            "Training completed in 3.97 seconds.\n"
          ]
        }
      ]
    },
    {
      "cell_type": "code",
      "source": [
        "t_p_val = model(t_u_val)\n",
        "_, predicted = torch.max(t_p_val, dim=1)\n",
        "total = t_c_val.shape[0]\n",
        "correct = int((predicted == t_c_val).sum())\n",
        "print(f'Accuracy: {correct / total}')"
      ],
      "metadata": {
        "colab": {
          "base_uri": "https://localhost:8080/"
        },
        "id": "JFC5rfWoe7DT",
        "outputId": "3155e6a6-431a-45da-9676-20ddc9e165e6"
      },
      "execution_count": 33,
      "outputs": [
        {
          "output_type": "stream",
          "name": "stdout",
          "text": [
            "Accuracy: 0.9649122807017544\n"
          ]
        }
      ]
    },
    {
      "cell_type": "markdown",
      "source": [
        "# Part B"
      ],
      "metadata": {
        "id": "geMPHnAFVwBx"
      }
    },
    {
      "cell_type": "code",
      "source": [
        "model = nn.Sequential(\n",
        "    nn.Linear(30,32),\n",
        "    nn.Tanh(),\n",
        "    nn.Linear(32,32),\n",
        "    nn.Tanh(),\n",
        "    nn.Linear(32,32),\n",
        "    nn.Tanh(),\n",
        "    nn.Linear(32,2),\n",
        "    nn.LogSoftmax(dim=1)\n",
        ")\n",
        "\n",
        "optimizer = optim.SGD(model.parameters(), lr=1e-2)\n",
        "\n",
        "training_loop(\n",
        "    n_epochs = 3000,\n",
        "    model = model,\n",
        "    optimizer = optimizer,\n",
        "    loss_fn = nn.NLLLoss(),\n",
        "    t_u_train = t_u_train,\n",
        "    t_u_val = t_u_val,\n",
        "    t_c_train = t_c_train,\n",
        "    t_c_val = t_c_val\n",
        ")"
      ],
      "metadata": {
        "colab": {
          "base_uri": "https://localhost:8080/"
        },
        "id": "QrEM8rFre6e-",
        "outputId": "9f2cd957-fc02-4fda-f7e7-cf577d6c8f0e"
      },
      "execution_count": 34,
      "outputs": [
        {
          "output_type": "stream",
          "name": "stdout",
          "text": [
            "Epoch=1, training loss=6.798915e-01, validation loss=6.717153e-01\n",
            "Epoch=2, training loss=6.760030e-01, validation loss=6.679896e-01\n",
            "Epoch=3, training loss=6.721538e-01, validation loss=6.642964e-01\n",
            "Epoch=500, training loss=8.640103e-02, validation loss=9.019417e-02\n",
            "Epoch=1000, training loss=6.100480e-02, validation loss=8.342355e-02\n",
            "Epoch=1500, training loss=5.364482e-02, validation loss=8.492222e-02\n",
            "Epoch=2000, training loss=5.003845e-02, validation loss=8.506725e-02\n",
            "Epoch=2500, training loss=4.755542e-02, validation loss=8.385242e-02\n",
            "Epoch=3000, training loss=4.548135e-02, validation loss=8.196887e-02\n",
            "Training completed in 6.97 seconds.\n"
          ]
        }
      ]
    },
    {
      "cell_type": "code",
      "source": [
        "t_p_val = model(t_u_val)\n",
        "_, predicted = torch.max(t_p_val, dim=1)\n",
        "total = t_c_val.shape[0]\n",
        "correct = int((predicted == t_c_val).sum())\n",
        "print(f'Accuracy: {correct / total}')"
      ],
      "metadata": {
        "colab": {
          "base_uri": "https://localhost:8080/"
        },
        "id": "Wi0Xe3yyfgvU",
        "outputId": "7bf1e20e-cfec-4b17-b6f5-ef69860779a9"
      },
      "execution_count": 35,
      "outputs": [
        {
          "output_type": "stream",
          "name": "stdout",
          "text": [
            "Accuracy: 0.9824561403508771\n"
          ]
        }
      ]
    }
  ]
}